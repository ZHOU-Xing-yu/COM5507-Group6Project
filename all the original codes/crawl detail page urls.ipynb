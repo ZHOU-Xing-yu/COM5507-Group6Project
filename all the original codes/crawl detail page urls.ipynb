{
 "cells": [
  {
   "cell_type": "code",
   "execution_count": 31,
   "id": "b47f33d9",
   "metadata": {},
   "outputs": [],
   "source": [
    "from selenium.webdriver import ChromeOptions\n",
    "from selenium import webdriver\n",
    "from selenium.common.exceptions import TimeoutException\n",
    "from selenium.webdriver.common.by import By\n",
    "from selenium.webdriver.support import expected_conditions as EC\n",
    "from selenium.webdriver.support.wait import WebDriverWait\n",
    "from os import makedirs\n",
    "from os.path import exists\n",
    "import bs4 as bs\n",
    "import pandas as pd\n",
    "from openpyxl import load_workbook\n",
    "import time\n",
    "import re\n",
    "from lxml import etree\n",
    "import random"
   ]
  },
  {
   "cell_type": "code",
   "execution_count": 32,
   "id": "db61a2d4",
   "metadata": {},
   "outputs": [],
   "source": [
    "INDEX_URL = 'https://web3.career/web3-non-tech-salaries'\n",
    "TOTAL_PAGE = 14     # 共爬取14页\n",
    "RESULTS_DIR = 'results'  # 结果文件夹\n",
    "RESULTS_FILE = 'joblinks.xlsx'\n",
    "exists(RESULTS_DIR) or makedirs(RESULTS_DIR)"
   ]
  },
  {
   "cell_type": "code",
   "execution_count": 33,
   "id": "ba3b5f8f",
   "metadata": {},
   "outputs": [
    {
     "name": "stderr",
     "output_type": "stream",
     "text": [
      "/var/folders/gv/3qjv1s5j5cld2hd1pmh499yc0000gn/T/ipykernel_5688/2764026158.py:2: DeprecationWarning: executable_path has been deprecated, please pass in a Service object\n",
      "  browser = webdriver.Chrome(executable_path=\"/Users/zhouxingyu/Desktop/PYTHONSTUDY/chromedriver 2\")\n"
     ]
    },
    {
     "name": "stdout",
     "output_type": "stream",
     "text": [
      "访问超时2\n",
      "访问超时2\n",
      "访问超时2\n",
      "访问超时2\n",
      "访问超时2\n",
      "访问超时2\n",
      "访问超时2\n",
      "访问超时2\n",
      "访问超时2\n",
      "访问超时2\n",
      "访问超时2\n",
      "访问超时2\n",
      "访问超时2\n",
      "访问超时2\n"
     ]
    }
   ],
   "source": [
    "from selenium import webdriver\n",
    "browser = webdriver.Chrome(executable_path=\"/Users/zhouxingyu/Desktop/PYTHONSTUDY/chromedriver 2\")\n",
    "INDEX_URL = 'https://web3.career/web3-non-tech-salaries'\n",
    "browser.get(INDEX_URL)\n",
    "\n",
    "def crawlIndex():\n",
    "    html=\"\"\n",
    "    try:\n",
    "        browser.get(INDEX_URL)\n",
    "        html = browser.page_source\n",
    "    except TimeoutException:\n",
    "        print(\"访问超时\")\n",
    "    # with open(f\"{RESULTS_DIR}/web3career.html\", 'w', encoding=\"utf8\") as f:\n",
    "    #     f.write(html)\n",
    "    return html\n",
    "\n",
    "def parseList(html):\n",
    "    #doc = etree.HTML(html)\n",
    "    #res = doc.xpath('//div/div/div/a/h3')\n",
    "    html = browser.page_source\n",
    "    tml = etree.HTML(html)\n",
    "    urls = tml.xpath('/html/body/main/div/div/div[2]/div/div[1]/table/tbody/tr/td[1]/div/div/div[1]/a/@href')\n",
    "    return urls\n",
    "\n",
    "def crawlList():\n",
    "    html = \"\"\n",
    "    try:\n",
    "        nextPage = WebDriverWait(browser, 5).until(EC.element_to_be_clickable((By.XPATH, \"//li[@class='page-item next']\")))\n",
    "        nextPage.click()\n",
    "        WebDriverWait(browser, 5).until(EC.presence_of_element_located((By.CLASS_NAME, 'my-btn my-btn-primary-reserve')))\n",
    "        html = browser.page_source\n",
    "        # print(html)\n",
    "    except TimeoutException:\n",
    "        print(\"访问超时2\")\n",
    "    return html\n",
    "\n",
    "def saveData(data):\n",
    "    header = ['URLS']\n",
    "    #, 'NAME', 'LOCATION', 'SALARY'\n",
    "    # create a Pandas frame from a dict\n",
    "    # guideline: https://pandas.pydata.org/pandas-docs/stable/generated/pandas.DataFrame.from_dict.html\n",
    "    df = pd.DataFrame(data, columns=header)\n",
    "    if exists(f'{RESULTS_DIR}/{RESULTS_FILE}'):\n",
    "        wb = load_workbook(filename=f'{RESULTS_DIR}/{RESULTS_FILE}')  # 实例化excel\n",
    "        sh = wb.active  # 获取sheet\n",
    "        all_excel_data = list(sh.iter_rows(values_only=True, min_row=2))  # 获取表格所有数据,忽略表头\n",
    "        # print(all_excel_data,type(all_excel_data))\n",
    "        original_data = pd.DataFrame(all_excel_data, columns=header)\n",
    "        save_data = pd.concat([original_data, df])  # 合并两个数据表\n",
    "\n",
    "        save_data.to_excel(f'{RESULTS_DIR}/{RESULTS_FILE}', index=False,header=None)\n",
    "    else:\n",
    "        df.to_excel(f'{RESULTS_DIR}/{RESULTS_FILE}', index=False, header=None)\n",
    "\n",
    "def main():\n",
    "    html = crawlIndex()\n",
    "    #print(html)\n",
    "    # with open(f'{RESULTS_DIR}/web3career.html', 'r', encoding='utf8') as f:\n",
    "    #     html = f.read()\n",
    "    for i in range(TOTAL_PAGE):\n",
    "        jobsData = parseList(html)\n",
    "        saveData(jobsData)\n",
    "        html = crawlList()  # 点击“下一页”按钮，获取下一页源码\n",
    "    browser.quit()\n",
    "\n",
    "\n",
    "if __name__ == '__main__':\n",
    "    main()"
   ]
  },
  {
   "cell_type": "code",
   "execution_count": null,
   "id": "3db63f57",
   "metadata": {},
   "outputs": [],
   "source": []
  },
  {
   "cell_type": "code",
   "execution_count": null,
   "id": "d8598406",
   "metadata": {},
   "outputs": [],
   "source": []
  }
 ],
 "metadata": {
  "kernelspec": {
   "display_name": "Python 3 (ipykernel)",
   "language": "python",
   "name": "python3"
  },
  "language_info": {
   "codemirror_mode": {
    "name": "ipython",
    "version": 3
   },
   "file_extension": ".py",
   "mimetype": "text/x-python",
   "name": "python",
   "nbconvert_exporter": "python",
   "pygments_lexer": "ipython3",
   "version": "3.9.12"
  }
 },
 "nbformat": 4,
 "nbformat_minor": 5
}
